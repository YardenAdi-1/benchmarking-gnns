{
 "cells": [
  {
   "cell_type": "markdown",
   "metadata": {},
   "source": [
    "# Notebook for preparing and saving MOLECULAR (ZINC full) graphs"
   ]
  },
  {
   "cell_type": "code",
   "execution_count": 2,
   "metadata": {},
   "outputs": [],
   "source": [
    "import numpy as np\n",
    "import torch\n",
    "import pickle\n",
    "import time\n",
    "import os\n",
    "%matplotlib inline\n",
    "import matplotlib.pyplot as plt\n"
   ]
  },
  {
   "cell_type": "markdown",
   "metadata": {},
   "source": [
    "# Download ZINC full dataset"
   ]
  },
  {
   "cell_type": "code",
   "execution_count": 4,
   "metadata": {},
   "outputs": [
    {
     "name": "stdout",
     "output_type": "stream",
     "text": [
      "File already downloaded\n"
     ]
    }
   ],
   "source": [
    "if not os.path.isfile('molecules_zinc_full.zip'):\n",
    "    print('downloading..')\n",
    "    !curl https://www.dropbox.com/s/grhitgnuuixoxwl/molecules_zinc_full.zip?dl=1 -o molecules_zinc_full.zip -J -L -k\n",
    "    !unzip molecules_zinc_full.zip -d ../\n",
    "    # !tar -xvf molecules_zinc_full.zip -C ../\n",
    "else:\n",
    "    print('File already downloaded')\n",
    "    "
   ]
  },
  {
   "cell_type": "markdown",
   "metadata": {},
   "source": [
    "# Convert to DGL format and save with pickle"
   ]
  },
  {
   "cell_type": "code",
   "execution_count": 5,
   "metadata": {},
   "outputs": [
    {
     "name": "stdout",
     "output_type": "stream",
     "text": [
      "/home/yarden/Project/benchmarking-gnns\n"
     ]
    }
   ],
   "source": [
    "import os\n",
    "os.chdir('../../') # go to root folder of the project\n",
    "print(os.getcwd())\n"
   ]
  },
  {
   "cell_type": "code",
   "execution_count": 6,
   "metadata": {},
   "outputs": [],
   "source": [
    "import pickle\n",
    "\n",
    "%load_ext autoreload\n",
    "%autoreload 2\n",
    "\n",
    "from data.molecules import MoleculeDatasetDGL \n",
    "\n",
    "from data.data import LoadData\n",
    "from torch.utils.data import DataLoader\n",
    "from data.molecules import MoleculeDataset\n"
   ]
  },
  {
   "cell_type": "code",
   "execution_count": 7,
   "metadata": {},
   "outputs": [
    {
     "name": "stdout",
     "output_type": "stream",
     "text": [
      "preparing 220011 graphs for the TRAIN set...\n"
     ]
    },
    {
     "name": "stderr",
     "output_type": "stream",
     "text": [
      "/home/yarden/miniconda3/envs/mitzi/lib/python3.10/site-packages/dgl/heterograph.py:92: DGLWarning: Recommend creating graphs by `dgl.graph(data)` instead of `dgl.DGLGraph(data)`.\n",
      "  dgl_warning(\n"
     ]
    },
    {
     "ename": "KeyboardInterrupt",
     "evalue": "",
     "output_type": "error",
     "traceback": [
      "\u001B[0;31m---------------------------------------------------------------------------\u001B[0m",
      "\u001B[0;31mKeyboardInterrupt\u001B[0m                         Traceback (most recent call last)",
      "Cell \u001B[0;32mIn[7], line 2\u001B[0m\n\u001B[1;32m      1\u001B[0m DATASET_NAME \u001B[38;5;241m=\u001B[39m \u001B[38;5;124m'\u001B[39m\u001B[38;5;124mZINC-full\u001B[39m\u001B[38;5;124m'\u001B[39m\n\u001B[0;32m----> 2\u001B[0m dataset \u001B[38;5;241m=\u001B[39m \u001B[43mMoleculeDatasetDGL\u001B[49m\u001B[43m(\u001B[49m\u001B[43mDATASET_NAME\u001B[49m\u001B[43m)\u001B[49m\n",
      "File \u001B[0;32m~/Project/benchmarking-gnns/data/molecules.py:172\u001B[0m, in \u001B[0;36mMoleculeDatasetDGL.__init__\u001B[0;34m(self, name)\u001B[0m\n\u001B[1;32m    170\u001B[0m \u001B[38;5;28;01mif\u001B[39;00m \u001B[38;5;28mself\u001B[39m\u001B[38;5;241m.\u001B[39mname \u001B[38;5;241m==\u001B[39m \u001B[38;5;124m'\u001B[39m\u001B[38;5;124mZINC-full\u001B[39m\u001B[38;5;124m'\u001B[39m:\n\u001B[1;32m    171\u001B[0m     data_dir\u001B[38;5;241m=\u001B[39m\u001B[38;5;124m'\u001B[39m\u001B[38;5;124m./data/molecules/zinc_full\u001B[39m\u001B[38;5;124m'\u001B[39m\n\u001B[0;32m--> 172\u001B[0m     \u001B[38;5;28mself\u001B[39m\u001B[38;5;241m.\u001B[39mtrain \u001B[38;5;241m=\u001B[39m \u001B[43mMoleculeDGL\u001B[49m\u001B[43m(\u001B[49m\u001B[43mdata_dir\u001B[49m\u001B[43m,\u001B[49m\u001B[43m \u001B[49m\u001B[38;5;124;43m'\u001B[39;49m\u001B[38;5;124;43mtrain\u001B[39;49m\u001B[38;5;124;43m'\u001B[39;49m\u001B[43m,\u001B[49m\u001B[43m \u001B[49m\u001B[43mnum_graphs\u001B[49m\u001B[38;5;241;43m=\u001B[39;49m\u001B[38;5;241;43m220011\u001B[39;49m\u001B[43m)\u001B[49m\n\u001B[1;32m    173\u001B[0m     \u001B[38;5;28mself\u001B[39m\u001B[38;5;241m.\u001B[39mval \u001B[38;5;241m=\u001B[39m MoleculeDGL(data_dir, \u001B[38;5;124m'\u001B[39m\u001B[38;5;124mval\u001B[39m\u001B[38;5;124m'\u001B[39m, num_graphs\u001B[38;5;241m=\u001B[39m\u001B[38;5;241m24445\u001B[39m)\n\u001B[1;32m    174\u001B[0m     \u001B[38;5;28mself\u001B[39m\u001B[38;5;241m.\u001B[39mtest \u001B[38;5;241m=\u001B[39m MoleculeDGL(data_dir, \u001B[38;5;124m'\u001B[39m\u001B[38;5;124mtest\u001B[39m\u001B[38;5;124m'\u001B[39m, num_graphs\u001B[38;5;241m=\u001B[39m\u001B[38;5;241m5000\u001B[39m)\n",
      "File \u001B[0;32m~/Project/benchmarking-gnns/data/molecules.py:53\u001B[0m, in \u001B[0;36mMoleculeDGL.__init__\u001B[0;34m(self, data_dir, split, num_graphs)\u001B[0m\n\u001B[1;32m     51\u001B[0m \u001B[38;5;28mself\u001B[39m\u001B[38;5;241m.\u001B[39mgraph_labels \u001B[38;5;241m=\u001B[39m []\n\u001B[1;32m     52\u001B[0m \u001B[38;5;28mself\u001B[39m\u001B[38;5;241m.\u001B[39mn_samples \u001B[38;5;241m=\u001B[39m \u001B[38;5;28mlen\u001B[39m(\u001B[38;5;28mself\u001B[39m\u001B[38;5;241m.\u001B[39mdata)\n\u001B[0;32m---> 53\u001B[0m \u001B[38;5;28;43mself\u001B[39;49m\u001B[38;5;241;43m.\u001B[39;49m\u001B[43m_prepare\u001B[49m\u001B[43m(\u001B[49m\u001B[43m)\u001B[49m\n",
      "File \u001B[0;32m~/Project/benchmarking-gnns/data/molecules.py:73\u001B[0m, in \u001B[0;36mMoleculeDGL._prepare\u001B[0;34m(self)\u001B[0m\n\u001B[1;32m     70\u001B[0m g\u001B[38;5;241m.\u001B[39mndata[\u001B[38;5;124m'\u001B[39m\u001B[38;5;124mfeat\u001B[39m\u001B[38;5;124m'\u001B[39m] \u001B[38;5;241m=\u001B[39m node_features\n\u001B[1;32m     72\u001B[0m \u001B[38;5;28;01mfor\u001B[39;00m src, dst \u001B[38;5;129;01min\u001B[39;00m edge_list:\n\u001B[0;32m---> 73\u001B[0m     \u001B[43mg\u001B[49m\u001B[38;5;241;43m.\u001B[39;49m\u001B[43madd_edges\u001B[49m\u001B[43m(\u001B[49m\u001B[43msrc\u001B[49m\u001B[38;5;241;43m.\u001B[39;49m\u001B[43mitem\u001B[49m\u001B[43m(\u001B[49m\u001B[43m)\u001B[49m\u001B[43m,\u001B[49m\u001B[43m \u001B[49m\u001B[43mdst\u001B[49m\u001B[38;5;241;43m.\u001B[39;49m\u001B[43mitem\u001B[49m\u001B[43m(\u001B[49m\u001B[43m)\u001B[49m\u001B[43m)\u001B[49m\n\u001B[1;32m     74\u001B[0m g\u001B[38;5;241m.\u001B[39medata[\u001B[38;5;124m'\u001B[39m\u001B[38;5;124mfeat\u001B[39m\u001B[38;5;124m'\u001B[39m] \u001B[38;5;241m=\u001B[39m edge_features\n\u001B[1;32m     76\u001B[0m \u001B[38;5;28mself\u001B[39m\u001B[38;5;241m.\u001B[39mgraph_lists\u001B[38;5;241m.\u001B[39mappend(g)\n",
      "File \u001B[0;32m~/miniconda3/envs/mitzi/lib/python3.10/site-packages/dgl/heterograph.py:597\u001B[0m, in \u001B[0;36mDGLGraph.add_edges\u001B[0;34m(self, u, v, data, etype)\u001B[0m\n\u001B[1;32m    594\u001B[0m \u001B[38;5;28;01mfor\u001B[39;00m c_etype \u001B[38;5;129;01min\u001B[39;00m \u001B[38;5;28mself\u001B[39m\u001B[38;5;241m.\u001B[39mcanonical_etypes:\n\u001B[1;32m    595\u001B[0m     \u001B[38;5;66;03m# the target edge type\u001B[39;00m\n\u001B[1;32m    596\u001B[0m     \u001B[38;5;28;01mif\u001B[39;00m c_etype \u001B[38;5;241m==\u001B[39m (u_type, e_type, v_type):\n\u001B[0;32m--> 597\u001B[0m         old_u, old_v \u001B[38;5;241m=\u001B[39m \u001B[38;5;28;43mself\u001B[39;49m\u001B[38;5;241;43m.\u001B[39;49m\u001B[43medges\u001B[49m\u001B[43m(\u001B[49m\u001B[43mform\u001B[49m\u001B[38;5;241;43m=\u001B[39;49m\u001B[38;5;124;43m\"\u001B[39;49m\u001B[38;5;124;43muv\u001B[39;49m\u001B[38;5;124;43m\"\u001B[39;49m\u001B[43m,\u001B[49m\u001B[43m \u001B[49m\u001B[43morder\u001B[49m\u001B[38;5;241;43m=\u001B[39;49m\u001B[38;5;124;43m\"\u001B[39;49m\u001B[38;5;124;43meid\u001B[39;49m\u001B[38;5;124;43m\"\u001B[39;49m\u001B[43m,\u001B[49m\u001B[43m \u001B[49m\u001B[43metype\u001B[49m\u001B[38;5;241;43m=\u001B[39;49m\u001B[43mc_etype\u001B[49m\u001B[43m)\u001B[49m\n\u001B[1;32m    598\u001B[0m         hgidx \u001B[38;5;241m=\u001B[39m heterograph_index\u001B[38;5;241m.\u001B[39mcreate_unitgraph_from_coo(\n\u001B[1;32m    599\u001B[0m             \u001B[38;5;241m1\u001B[39m \u001B[38;5;28;01mif\u001B[39;00m u_type \u001B[38;5;241m==\u001B[39m v_type \u001B[38;5;28;01melse\u001B[39;00m \u001B[38;5;241m2\u001B[39m,\n\u001B[1;32m    600\u001B[0m             \u001B[38;5;28mself\u001B[39m\u001B[38;5;241m.\u001B[39mnum_nodes(u_type),\n\u001B[0;32m   (...)\u001B[0m\n\u001B[1;32m    604\u001B[0m             [\u001B[38;5;124m\"\u001B[39m\u001B[38;5;124mcoo\u001B[39m\u001B[38;5;124m\"\u001B[39m, \u001B[38;5;124m\"\u001B[39m\u001B[38;5;124mcsr\u001B[39m\u001B[38;5;124m\"\u001B[39m, \u001B[38;5;124m\"\u001B[39m\u001B[38;5;124mcsc\u001B[39m\u001B[38;5;124m\"\u001B[39m],\n\u001B[1;32m    605\u001B[0m         )\n\u001B[1;32m    606\u001B[0m         relation_graphs\u001B[38;5;241m.\u001B[39mappend(hgidx)\n",
      "File \u001B[0;32m~/miniconda3/envs/mitzi/lib/python3.10/site-packages/dgl/view.py:179\u001B[0m, in \u001B[0;36mHeteroEdgeView.__call__\u001B[0;34m(self, *args, **kwargs)\u001B[0m\n\u001B[1;32m    177\u001B[0m \u001B[38;5;28;01mdef\u001B[39;00m \u001B[38;5;21m__call__\u001B[39m(\u001B[38;5;28mself\u001B[39m, \u001B[38;5;241m*\u001B[39margs, \u001B[38;5;241m*\u001B[39m\u001B[38;5;241m*\u001B[39mkwargs):\n\u001B[1;32m    178\u001B[0m \u001B[38;5;250m    \u001B[39m\u001B[38;5;124;03m\"\"\"Return all the edges.\"\"\"\u001B[39;00m\n\u001B[0;32m--> 179\u001B[0m     \u001B[38;5;28;01mreturn\u001B[39;00m \u001B[38;5;28;43mself\u001B[39;49m\u001B[38;5;241;43m.\u001B[39;49m\u001B[43m_graph\u001B[49m\u001B[38;5;241;43m.\u001B[39;49m\u001B[43mall_edges\u001B[49m\u001B[43m(\u001B[49m\u001B[38;5;241;43m*\u001B[39;49m\u001B[43margs\u001B[49m\u001B[43m,\u001B[49m\u001B[43m \u001B[49m\u001B[38;5;241;43m*\u001B[39;49m\u001B[38;5;241;43m*\u001B[39;49m\u001B[43mkwargs\u001B[49m\u001B[43m)\u001B[49m\n",
      "File \u001B[0;32m~/miniconda3/envs/mitzi/lib/python3.10/site-packages/dgl/heterograph.py:3589\u001B[0m, in \u001B[0;36mDGLGraph.all_edges\u001B[0;34m(self, form, order, etype)\u001B[0m\n\u001B[1;32m   3519\u001B[0m \u001B[38;5;28;01mdef\u001B[39;00m \u001B[38;5;21mall_edges\u001B[39m(\u001B[38;5;28mself\u001B[39m, form\u001B[38;5;241m=\u001B[39m\u001B[38;5;124m\"\u001B[39m\u001B[38;5;124muv\u001B[39m\u001B[38;5;124m\"\u001B[39m, order\u001B[38;5;241m=\u001B[39m\u001B[38;5;124m\"\u001B[39m\u001B[38;5;124meid\u001B[39m\u001B[38;5;124m\"\u001B[39m, etype\u001B[38;5;241m=\u001B[39m\u001B[38;5;28;01mNone\u001B[39;00m):\n\u001B[1;32m   3520\u001B[0m \u001B[38;5;250m    \u001B[39m\u001B[38;5;124;03m\"\"\"Return all edges with the specified edge type.\u001B[39;00m\n\u001B[1;32m   3521\u001B[0m \n\u001B[1;32m   3522\u001B[0m \u001B[38;5;124;03m    Parameters\u001B[39;00m\n\u001B[0;32m   (...)\u001B[0m\n\u001B[1;32m   3587\u001B[0m \u001B[38;5;124;03m    out_edges\u001B[39;00m\n\u001B[1;32m   3588\u001B[0m \u001B[38;5;124;03m    \"\"\"\u001B[39;00m\n\u001B[0;32m-> 3589\u001B[0m     src, dst, eid \u001B[38;5;241m=\u001B[39m \u001B[38;5;28;43mself\u001B[39;49m\u001B[38;5;241;43m.\u001B[39;49m\u001B[43m_graph\u001B[49m\u001B[38;5;241;43m.\u001B[39;49m\u001B[43medges\u001B[49m\u001B[43m(\u001B[49m\u001B[38;5;28;43mself\u001B[39;49m\u001B[38;5;241;43m.\u001B[39;49m\u001B[43mget_etype_id\u001B[49m\u001B[43m(\u001B[49m\u001B[43metype\u001B[49m\u001B[43m)\u001B[49m\u001B[43m,\u001B[49m\u001B[43m \u001B[49m\u001B[43morder\u001B[49m\u001B[43m)\u001B[49m\n\u001B[1;32m   3590\u001B[0m     \u001B[38;5;28;01mif\u001B[39;00m form \u001B[38;5;241m==\u001B[39m \u001B[38;5;124m\"\u001B[39m\u001B[38;5;124mall\u001B[39m\u001B[38;5;124m\"\u001B[39m:\n\u001B[1;32m   3591\u001B[0m         \u001B[38;5;28;01mreturn\u001B[39;00m src, dst, eid\n",
      "File \u001B[0;32m~/miniconda3/envs/mitzi/lib/python3.10/site-packages/dgl/heterograph_index.py:697\u001B[0m, in \u001B[0;36mHeteroGraphIndex.edges\u001B[0;34m(self, etype, order)\u001B[0m\n\u001B[1;32m    692\u001B[0m     \u001B[38;5;28;01mraise\u001B[39;00m DGLError(\n\u001B[1;32m    693\u001B[0m         \u001B[38;5;124m\"\u001B[39m\u001B[38;5;124mExpect order to be one of None, \u001B[39m\u001B[38;5;124m'\u001B[39m\u001B[38;5;124msrcdst\u001B[39m\u001B[38;5;124m'\u001B[39m\u001B[38;5;124m, \u001B[39m\u001B[38;5;124m'\u001B[39m\u001B[38;5;124meid\u001B[39m\u001B[38;5;124m'\u001B[39m\u001B[38;5;124m, \u001B[39m\u001B[38;5;124m\"\u001B[39m\n\u001B[1;32m    694\u001B[0m         \u001B[38;5;124m\"\u001B[39m\u001B[38;5;124mgot \u001B[39m\u001B[38;5;132;01m{}\u001B[39;00m\u001B[38;5;124m\"\u001B[39m\u001B[38;5;241m.\u001B[39mformat(order)\n\u001B[1;32m    695\u001B[0m     )\n\u001B[1;32m    696\u001B[0m edge_array \u001B[38;5;241m=\u001B[39m _CAPI_DGLHeteroEdges(\u001B[38;5;28mself\u001B[39m, \u001B[38;5;28mint\u001B[39m(etype), order)\n\u001B[0;32m--> 697\u001B[0m src \u001B[38;5;241m=\u001B[39m \u001B[43mF\u001B[49m\u001B[38;5;241;43m.\u001B[39;49m\u001B[43mfrom_dgl_nd\u001B[49m\u001B[43m(\u001B[49m\u001B[43medge_array\u001B[49m\u001B[43m(\u001B[49m\u001B[38;5;241;43m0\u001B[39;49m\u001B[43m)\u001B[49m\u001B[43m)\u001B[49m\n\u001B[1;32m    698\u001B[0m dst \u001B[38;5;241m=\u001B[39m F\u001B[38;5;241m.\u001B[39mfrom_dgl_nd(edge_array(\u001B[38;5;241m1\u001B[39m))\n\u001B[1;32m    699\u001B[0m eid \u001B[38;5;241m=\u001B[39m F\u001B[38;5;241m.\u001B[39mfrom_dgl_nd(edge_array(\u001B[38;5;241m2\u001B[39m))\n",
      "File \u001B[0;32m~/miniconda3/envs/mitzi/lib/python3.10/site-packages/dgl/backend/__init__.py:146\u001B[0m, in \u001B[0;36mfrom_dgl_nd\u001B[0;34m(data)\u001B[0m\n\u001B[1;32m    145\u001B[0m \u001B[38;5;28;01mdef\u001B[39;00m \u001B[38;5;21mfrom_dgl_nd\u001B[39m(data):\n\u001B[0;32m--> 146\u001B[0m     \u001B[38;5;28;01mreturn\u001B[39;00m \u001B[43mzerocopy_from_dgl_ndarray\u001B[49m\u001B[43m(\u001B[49m\u001B[43mdata\u001B[49m\u001B[43m)\u001B[49m\n",
      "File \u001B[0;32m~/miniconda3/envs/mitzi/lib/python3.10/site-packages/dgl/backend/pytorch/tensor.py:473\u001B[0m, in \u001B[0;36mzerocopy_from_dgl_ndarray\u001B[0;34m(data)\u001B[0m\n\u001B[1;32m    466\u001B[0m \u001B[38;5;28;01mif\u001B[39;00m data\u001B[38;5;241m.\u001B[39mshape \u001B[38;5;241m==\u001B[39m (\u001B[38;5;241m0\u001B[39m,):\n\u001B[1;32m    467\u001B[0m     \u001B[38;5;66;03m# NOTE: PyTorch v1.5 does not accept DLPack object representing empty CUDA tensor.\u001B[39;00m\n\u001B[1;32m    468\u001B[0m     \u001B[38;5;66;03m#  Related issue: https://github.com/pytorch/pytorch/issues/41182\u001B[39;00m\n\u001B[1;32m    469\u001B[0m     \u001B[38;5;66;03m#  The issue will be fixed in v1.6 and later.\u001B[39;00m\n\u001B[1;32m    470\u001B[0m     \u001B[38;5;28;01mreturn\u001B[39;00m th\u001B[38;5;241m.\u001B[39mtensor(\n\u001B[1;32m    471\u001B[0m         [], dtype\u001B[38;5;241m=\u001B[39m\u001B[38;5;28mgetattr\u001B[39m(th, data\u001B[38;5;241m.\u001B[39mdtype), device\u001B[38;5;241m=\u001B[39mto_backend_ctx(data\u001B[38;5;241m.\u001B[39mctx)\n\u001B[1;32m    472\u001B[0m     )\n\u001B[0;32m--> 473\u001B[0m \u001B[38;5;28;01melif\u001B[39;00m \u001B[38;5;28mlen\u001B[39m(\u001B[43mdata\u001B[49m\u001B[38;5;241;43m.\u001B[39;49m\u001B[43mshape\u001B[49m) \u001B[38;5;241m==\u001B[39m \u001B[38;5;241m0\u001B[39m \u001B[38;5;129;01mor\u001B[39;00m builtins\u001B[38;5;241m.\u001B[39mmin(data\u001B[38;5;241m.\u001B[39mshape) \u001B[38;5;241m==\u001B[39m \u001B[38;5;241m0\u001B[39m:\n\u001B[1;32m    474\u001B[0m     \u001B[38;5;66;03m# Workaround the same issue as above, but preserve the shape of the\u001B[39;00m\n\u001B[1;32m    475\u001B[0m     \u001B[38;5;66;03m# empty tensor. This is needed by the sparse optimizer when one of\u001B[39;00m\n\u001B[1;32m    476\u001B[0m     \u001B[38;5;66;03m# processors may receive no gradients to update, but we want to keep\u001B[39;00m\n\u001B[1;32m    477\u001B[0m     \u001B[38;5;66;03m# the dimension of the embedding.\u001B[39;00m\n\u001B[1;32m    478\u001B[0m     \u001B[38;5;28;01mreturn\u001B[39;00m th\u001B[38;5;241m.\u001B[39mempty(\n\u001B[1;32m    479\u001B[0m         data\u001B[38;5;241m.\u001B[39mshape,\n\u001B[1;32m    480\u001B[0m         dtype\u001B[38;5;241m=\u001B[39m\u001B[38;5;28mgetattr\u001B[39m(th, data\u001B[38;5;241m.\u001B[39mdtype),\n\u001B[1;32m    481\u001B[0m         device\u001B[38;5;241m=\u001B[39mto_backend_ctx(data\u001B[38;5;241m.\u001B[39mctx),\n\u001B[1;32m    482\u001B[0m     )\n\u001B[1;32m    483\u001B[0m \u001B[38;5;28;01melse\u001B[39;00m:\n",
      "File \u001B[0;32m~/miniconda3/envs/mitzi/lib/python3.10/site-packages/dgl/_ffi/ndarray.py:209\u001B[0m, in \u001B[0;36mNDArrayBase.shape\u001B[0;34m(self)\u001B[0m\n\u001B[1;32m    206\u001B[0m \u001B[38;5;129m@property\u001B[39m\n\u001B[1;32m    207\u001B[0m \u001B[38;5;28;01mdef\u001B[39;00m \u001B[38;5;21mshape\u001B[39m(\u001B[38;5;28mself\u001B[39m):\n\u001B[1;32m    208\u001B[0m \u001B[38;5;250m    \u001B[39m\u001B[38;5;124;03m\"\"\"Shape of this array\"\"\"\u001B[39;00m\n\u001B[0;32m--> 209\u001B[0m     \u001B[38;5;28;01mreturn\u001B[39;00m \u001B[38;5;28;43mtuple\u001B[39;49m\u001B[43m(\u001B[49m\n\u001B[1;32m    210\u001B[0m \u001B[43m        \u001B[49m\u001B[38;5;28;43mself\u001B[39;49m\u001B[38;5;241;43m.\u001B[39;49m\u001B[43mhandle\u001B[49m\u001B[38;5;241;43m.\u001B[39;49m\u001B[43mcontents\u001B[49m\u001B[38;5;241;43m.\u001B[39;49m\u001B[43mshape\u001B[49m\u001B[43m[\u001B[49m\u001B[43mi\u001B[49m\u001B[43m]\u001B[49m\n\u001B[1;32m    211\u001B[0m \u001B[43m        \u001B[49m\u001B[38;5;28;43;01mfor\u001B[39;49;00m\u001B[43m \u001B[49m\u001B[43mi\u001B[49m\u001B[43m \u001B[49m\u001B[38;5;129;43;01min\u001B[39;49;00m\u001B[43m \u001B[49m\u001B[38;5;28;43mrange\u001B[39;49m\u001B[43m(\u001B[49m\u001B[38;5;28;43mself\u001B[39;49m\u001B[38;5;241;43m.\u001B[39;49m\u001B[43mhandle\u001B[49m\u001B[38;5;241;43m.\u001B[39;49m\u001B[43mcontents\u001B[49m\u001B[38;5;241;43m.\u001B[39;49m\u001B[43mndim\u001B[49m\u001B[43m)\u001B[49m\n\u001B[1;32m    212\u001B[0m \u001B[43m    \u001B[49m\u001B[43m)\u001B[49m\n",
      "File \u001B[0;32m~/miniconda3/envs/mitzi/lib/python3.10/site-packages/dgl/_ffi/ndarray.py:210\u001B[0m, in \u001B[0;36m<genexpr>\u001B[0;34m(.0)\u001B[0m\n\u001B[1;32m    206\u001B[0m \u001B[38;5;129m@property\u001B[39m\n\u001B[1;32m    207\u001B[0m \u001B[38;5;28;01mdef\u001B[39;00m \u001B[38;5;21mshape\u001B[39m(\u001B[38;5;28mself\u001B[39m):\n\u001B[1;32m    208\u001B[0m \u001B[38;5;250m    \u001B[39m\u001B[38;5;124;03m\"\"\"Shape of this array\"\"\"\u001B[39;00m\n\u001B[1;32m    209\u001B[0m     \u001B[38;5;28;01mreturn\u001B[39;00m \u001B[38;5;28mtuple\u001B[39m(\n\u001B[0;32m--> 210\u001B[0m         \u001B[38;5;28;43mself\u001B[39;49m\u001B[38;5;241;43m.\u001B[39;49m\u001B[43mhandle\u001B[49m\u001B[38;5;241m.\u001B[39mcontents\u001B[38;5;241m.\u001B[39mshape[i]\n\u001B[1;32m    211\u001B[0m         \u001B[38;5;28;01mfor\u001B[39;00m i \u001B[38;5;129;01min\u001B[39;00m \u001B[38;5;28mrange\u001B[39m(\u001B[38;5;28mself\u001B[39m\u001B[38;5;241m.\u001B[39mhandle\u001B[38;5;241m.\u001B[39mcontents\u001B[38;5;241m.\u001B[39mndim)\n\u001B[1;32m    212\u001B[0m     )\n",
      "File \u001B[0;32mdgl/_ffi/_cython/./ndarray.pxi:49\u001B[0m, in \u001B[0;36mdgl._ffi._cy3.core.NDArrayBase.handle.__get__\u001B[0;34m()\u001B[0m\n",
      "File \u001B[0;32m~/miniconda3/envs/mitzi/lib/python3.10/ctypes/__init__.py:510\u001B[0m, in \u001B[0;36mcast\u001B[0;34m(obj, typ)\u001B[0m\n\u001B[1;32m    509\u001B[0m \u001B[38;5;28;01mdef\u001B[39;00m \u001B[38;5;21mcast\u001B[39m(obj, typ):\n\u001B[0;32m--> 510\u001B[0m     \u001B[38;5;28;01mreturn\u001B[39;00m \u001B[43m_cast\u001B[49m\u001B[43m(\u001B[49m\u001B[43mobj\u001B[49m\u001B[43m,\u001B[49m\u001B[43m \u001B[49m\u001B[43mobj\u001B[49m\u001B[43m,\u001B[49m\u001B[43m \u001B[49m\u001B[43mtyp\u001B[49m\u001B[43m)\u001B[49m\n",
      "\u001B[0;31mKeyboardInterrupt\u001B[0m: "
     ]
    }
   ],
   "source": [
    "DATASET_NAME = 'ZINC-full'\n",
    "dataset = MoleculeDatasetDGL(DATASET_NAME) \n"
   ]
  },
  {
   "cell_type": "code",
   "execution_count": null,
   "metadata": {},
   "outputs": [],
   "source": [
    "def plot_histo_graphs(dataset, title):\n",
    "    # histogram of graph sizes\n",
    "    graph_sizes = []\n",
    "    for graph in dataset:\n",
    "        graph_sizes.append(graph[0].number_of_nodes())\n",
    "    plt.figure(1)\n",
    "    plt.hist(graph_sizes, bins=20)\n",
    "    plt.title(title)\n",
    "    plt.show()\n",
    "    graph_sizes = torch.Tensor(graph_sizes)\n",
    "    print('min/max :',graph_sizes.min().long().item(),graph_sizes.max().long().item())\n",
    "    \n",
    "plot_histo_graphs(dataset.train,'trainset')\n",
    "plot_histo_graphs(dataset.val,'valset')\n",
    "plot_histo_graphs(dataset.test,'testset')\n"
   ]
  },
  {
   "cell_type": "code",
   "execution_count": null,
   "metadata": {},
   "outputs": [],
   "source": [
    "print(len(dataset.train))\n",
    "print(len(dataset.val))\n",
    "print(len(dataset.test))\n",
    "\n",
    "print(dataset.train[0])\n",
    "print(dataset.val[0])\n",
    "print(dataset.test[0])\n"
   ]
  },
  {
   "cell_type": "code",
   "execution_count": null,
   "metadata": {},
   "outputs": [],
   "source": [
    "num_atom_type = 28\n",
    "num_bond_type = 4\n"
   ]
  },
  {
   "cell_type": "code",
   "execution_count": null,
   "metadata": {},
   "outputs": [],
   "source": [
    "start = time.time()\n",
    "with open('data/molecules/ZINC-full.pkl','wb') as f:\n",
    "        pickle.dump([dataset.train,dataset.val,dataset.test,num_atom_type,num_bond_type],f)\n",
    "print('Time (sec):',time.time() - start)\n"
   ]
  },
  {
   "cell_type": "markdown",
   "metadata": {},
   "source": [
    "# Test load function"
   ]
  },
  {
   "cell_type": "code",
   "execution_count": null,
   "metadata": {},
   "outputs": [],
   "source": [
    "DATASET_NAME = 'ZINC-full'\n",
    "dataset = LoadData(DATASET_NAME)\n",
    "trainset, valset, testset = dataset.train, dataset.val, dataset.test\n"
   ]
  },
  {
   "cell_type": "code",
   "execution_count": null,
   "metadata": {},
   "outputs": [],
   "source": [
    "batch_size = 10\n",
    "collate = MoleculeDataset.collate\n",
    "print(MoleculeDataset)\n",
    "train_loader = DataLoader(trainset, batch_size=batch_size, shuffle=True, collate_fn=collate)\n"
   ]
  },
  {
   "cell_type": "code",
   "execution_count": null,
   "metadata": {},
   "outputs": [],
   "source": []
  },
  {
   "cell_type": "code",
   "execution_count": null,
   "metadata": {},
   "outputs": [],
   "source": []
  },
  {
   "cell_type": "code",
   "execution_count": null,
   "metadata": {},
   "outputs": [],
   "source": []
  }
 ],
 "metadata": {
  "kernelspec": {
   "display_name": "Python 3",
   "language": "python",
   "name": "python3"
  },
  "language_info": {
   "codemirror_mode": {
    "name": "ipython",
    "version": 3
   },
   "file_extension": ".py",
   "mimetype": "text/x-python",
   "name": "python",
   "nbconvert_exporter": "python",
   "pygments_lexer": "ipython3",
   "version": "3.7.4"
  }
 },
 "nbformat": 4,
 "nbformat_minor": 4
}
